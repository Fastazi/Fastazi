{
 "cells": [
  {
   "cell_type": "code",
   "execution_count": 1,
   "source": [
    "install.packages(\"readr\")\n",
    "install.packages(\"ggplot2\")\n",
    "install.packages(\"nortest\") # ad.test\n",
    "install.packages(\"agricolae\") # kruskal with tukey groups\n",
    "install.packages(\"rstatix\") # dunn test, wilcox_test"
   ],
   "outputs": [
    {
     "output_type": "stream",
     "name": "stdout",
     "text": [
      "\n",
      "The downloaded binary packages are in\n",
      "\t/var/folders/xk/kb8fhy7d7_j_wl1_hq_34ns40000gn/T//RtmpTyRqj0/downloaded_packages\n",
      "\n",
      "The downloaded binary packages are in\n",
      "\t/var/folders/xk/kb8fhy7d7_j_wl1_hq_34ns40000gn/T//RtmpTyRqj0/downloaded_packages\n",
      "\n",
      "The downloaded binary packages are in\n",
      "\t/var/folders/xk/kb8fhy7d7_j_wl1_hq_34ns40000gn/T//RtmpTyRqj0/downloaded_packages\n",
      "\n",
      "The downloaded binary packages are in\n",
      "\t/var/folders/xk/kb8fhy7d7_j_wl1_hq_34ns40000gn/T//RtmpTyRqj0/downloaded_packages\n",
      "\n",
      "The downloaded binary packages are in\n",
      "\t/var/folders/xk/kb8fhy7d7_j_wl1_hq_34ns40000gn/T//RtmpTyRqj0/downloaded_packages\n"
     ]
    }
   ],
   "metadata": {}
  },
  {
   "cell_type": "code",
   "execution_count": 1,
   "source": [
    "#!/usr/bin/env Rscript\n",
    "library(readr)\n",
    "library(ggplot2)\n",
    "library(nortest, pos=17) # ad.test\n",
    "library(agricolae) # kruskal with tukey groups\n",
    "library(rstatix) # dunn test, wilcox_test\n",
    "\n",
    "source(\"config.r\")"
   ],
   "outputs": [
    {
     "output_type": "stream",
     "name": "stderr",
     "text": [
      "\n",
      "Attaching package: 'rstatix'\n",
      "\n",
      "\n",
      "The following object is masked from 'package:stats':\n",
      "\n",
      "    filter\n",
      "\n",
      "\n"
     ]
    },
    {
     "output_type": "stream",
     "name": "stdout",
     "text": [
      "\n",
      "The downloaded binary packages are in\n",
      "\t/var/folders/xk/kb8fhy7d7_j_wl1_hq_34ns40000gn/T//Rtmp6hoZXJ/downloaded_packages\n"
     ]
    }
   ],
   "metadata": {}
  },
  {
   "cell_type": "code",
   "execution_count": 2,
   "source": [
    "give.n <- function(x){\n",
    "  return(c(y = mean(x), label = length(x)))\n",
    "}"
   ],
   "outputs": [],
   "metadata": {}
  },
  {
   "cell_type": "code",
   "execution_count": 3,
   "source": [
    "subject=\"all\"\n",
    "target_file = \"avg.csv\"\n",
    "\n",
    "results_loc <- paste(\"results\", subject, target_file, sep=\"/\")\n",
    "\n",
    "approaches <- c(\"Ekstazi\",\"Fastazi-S\",\"FAST\",\"Random\")\n",
    "v_factor_levels <- unique(approaches)"
   ],
   "outputs": [],
   "metadata": {}
  },
  {
   "cell_type": "code",
   "execution_count": 4,
   "source": [
    "#==================================================\n",
    "# Preparation\n",
    "#==================================================\n",
    "#LOAD RESULTS FILE\n",
    "raw_results <- read_delim(results_loc, \",\", escape_double = FALSE, trim_ws = TRUE)\n",
    "\n",
    "raw_results <- subset(raw_results, Suite %in% approaches)\n",
    "\n",
    "pdf_w <- 9\n",
    "pdf_h <- 6\n",
    "\n",
    "#reorder\n",
    "raw_results$Suite <- factor(raw_results$Suite, levels=c(\"Ekstazi\",\"FAST\",\"Fastazi-S\",\"Random\"),\n",
    "                            labels=c(\"Ekstazi\",\"FAST\",\"Fastazi\",\"Random\"))"
   ],
   "outputs": [
    {
     "output_type": "stream",
     "name": "stderr",
     "text": [
      "\u001b[1m\u001b[1mRows: \u001b[1m\u001b[22m\u001b[34m\u001b[34m2705\u001b[34m\u001b[39m \u001b[1m\u001b[1mColumns: \u001b[1m\u001b[22m\u001b[34m\u001b[34m10\u001b[34m\u001b[39m\n",
      "\n",
      "\u001b[36m--\u001b[39m \u001b[1m\u001b[1mColumn specification\u001b[1m\u001b[22m \u001b[36m--------------------------------------------------------\u001b[39m\n",
      "\u001b[1mDelimiter:\u001b[22m \",\"\n",
      "\u001b[31mchr\u001b[39m (2): Project, Suite\n",
      "\u001b[32mdbl\u001b[39m (8): Version, Test count, APFDf, TTFF, pTTFF, Misses, Hit, HitCount\n",
      "\n",
      "\n",
      "\u001b[36mi\u001b[39m Use \u001b[30m\u001b[47m\u001b[30m\u001b[47m`spec()`\u001b[47m\u001b[30m\u001b[49m\u001b[39m to retrieve the full column specification for this data.\n",
      "\u001b[36mi\u001b[39m Specify the column types or set \u001b[30m\u001b[47m\u001b[30m\u001b[47m`show_col_types = FALSE`\u001b[47m\u001b[30m\u001b[49m\u001b[39m to quiet this message.\n",
      "\n"
     ]
    }
   ],
   "metadata": {}
  },
  {
   "cell_type": "code",
   "execution_count": 5,
   "source": [
    "#==================================================\n",
    "# Boxplots (TTFF)\n",
    "#==================================================\n",
    "pdf(sprintf(\"%s.pdf\", 'TTFF'), width=pdf_w, height=pdf_h/2)\n",
    "# png(\"NAPFD.png\",height=3,width=9)\n",
    "ggplot(data=subset(raw_results, !is.na(pTTFF)), aes(Suite, pTTFF, fill=Suite)) +\n",
    "  geom_violin(trim=TRUE) +\n",
    "  geom_boxplot(width=0.1) +\n",
    "  theme_minimal()  +\n",
    "  theme(legend.position=\"none\", axis.title = element_blank(), text = element_text(size = 22)) +\n",
    "  theme(panel.grid.minor = element_blank()) +\n",
    "  scale_fill_manual(values = my.cols)\n",
    "dev.off()"
   ],
   "outputs": [
    {
     "output_type": "display_data",
     "data": {
      "text/html": [
       "<strong>pdf:</strong> 2"
      ],
      "text/latex": [
       "\\textbf{pdf:} 2"
      ],
      "text/markdown": [
       "**pdf:** 2"
      ],
      "text/plain": [
       "pdf \n",
       "  2 "
      ]
     },
     "metadata": {}
    }
   ],
   "metadata": {}
  },
  {
   "cell_type": "code",
   "execution_count": 6,
   "source": [
    "#==================================================\n",
    "# Boxplots (APFD)\n",
    "#==================================================\n",
    "pdf(sprintf(\"%s.pdf\", 'NAPFD'), width=pdf_w, height=pdf_h/2)\n",
    "ggplot(data=subset(raw_results, !is.na(APFDf)), aes(Suite, APFDf, fill=Suite)) +\n",
    "  geom_violin(trim=TRUE) +\n",
    "  geom_boxplot(width=0.1) +\n",
    "  theme_minimal() +\n",
    "  theme(legend.position=\"none\", axis.title = element_blank(), text = element_text(size = 22)) +\n",
    "  theme(panel.grid.minor = element_blank()) +\n",
    "  scale_fill_brewer(palette=\"Set2\") +\n",
    "  scale_fill_manual(values = my.cols)\n",
    "dev.off()"
   ],
   "outputs": [
    {
     "output_type": "stream",
     "name": "stderr",
     "text": [
      "Scale for 'fill' is already present. Adding another scale for 'fill', which\n",
      "will replace the existing scale.\n",
      "\n"
     ]
    },
    {
     "output_type": "display_data",
     "data": {
      "text/html": [
       "<strong>pdf:</strong> 2"
      ],
      "text/latex": [
       "\\textbf{pdf:} 2"
      ],
      "text/markdown": [
       "**pdf:** 2"
      ],
      "text/plain": [
       "pdf \n",
       "  2 "
      ]
     },
     "metadata": {}
    }
   ],
   "metadata": {}
  },
  {
   "cell_type": "code",
   "execution_count": 34,
   "source": [
    "#==================================================\n",
    "# Normality Test\n",
    "#==================================================\n",
    "with(raw_results, ad.test(pTTFF))\n",
    "with(raw_results, ad.test(APFDf))"
   ],
   "outputs": [
    {
     "output_type": "display_data",
     "data": {
      "text/plain": [
       "\n",
       "\tAnderson-Darling normality test\n",
       "\n",
       "data:  pTTFF\n",
       "A = 15.112, p-value < 2.2e-16\n"
      ]
     },
     "metadata": {}
    },
    {
     "output_type": "display_data",
     "data": {
      "text/plain": [
       "\n",
       "\tAnderson-Darling normality test\n",
       "\n",
       "data:  APFDf\n",
       "A = 16.351, p-value < 2.2e-16\n"
      ]
     },
     "metadata": {}
    }
   ],
   "metadata": {}
  },
  {
   "cell_type": "code",
   "execution_count": 35,
   "source": [
    "cat(\"\\n################################################################################\\n\")\n",
    "cat(  \"#                                     TTFF                                     #\")\n",
    "cat(\"\\n################################################################################\\n\")\n",
    "#Kruskal-Wallis rank sum test\n",
    "with(raw_results, tapply(pTTFF, Suite, median, na.rm=TRUE))\n",
    "kruskal.test(pTTFF ~ Suite, data=raw_results)\n",
    "cat(\"\\n==================================================\\n\")\n",
    "\n",
    "#Kruskal-Wallis rank sum test (MULTIPLE COMPARISON)\n",
    "kruskalmc(raw_results$pTTFF, raw_results$Suite)\n",
    "cat(\"\\n==================================================\\n\")\n",
    "\n",
    "cat(\"\\n----------\\n\")\n",
    "cat(  \"# Pairwise comparisons using Wilcoxon’s test\")\n",
    "cat(\"\\n----------\\n\")\n",
    "wilcox_test(raw_results, pTTFF ~ Suite, p.adjust.method = \"bonferroni\")\n",
    "cat(\"\\n==================================================\\n\")\n",
    "\n",
    "out <- kruskal(raw_results$pTTFF, raw_results$Suite)\n",
    "out"
   ],
   "outputs": [
    {
     "output_type": "stream",
     "name": "stdout",
     "text": [
      "\n",
      "################################################################################\n",
      "#                                     TTFF                                     #\n",
      "################################################################################\n"
     ]
    },
    {
     "output_type": "display_data",
     "data": {
      "text/html": [
       "<style>\n",
       ".dl-inline {width: auto; margin:0; padding: 0}\n",
       ".dl-inline>dt, .dl-inline>dd {float: none; width: auto; display: inline-block}\n",
       ".dl-inline>dt::after {content: \":\\0020\"; padding-right: .5ex}\n",
       ".dl-inline>dt:not(:first-of-type) {padding-left: .5ex}\n",
       "</style><dl class=dl-inline><dt>Ekstazi</dt><dd>0.385557401255076</dd><dt>FAST</dt><dd>0.446552427580579</dd><dt>Fastazi</dt><dd>0.329457364341085</dd><dt>Random</dt><dd>0.492039092475139</dd></dl>\n"
      ],
      "text/latex": [
       "\\begin{description*}\n",
       "\\item[Ekstazi] 0.385557401255076\n",
       "\\item[FAST] 0.446552427580579\n",
       "\\item[Fastazi] 0.329457364341085\n",
       "\\item[Random] 0.492039092475139\n",
       "\\end{description*}\n"
      ],
      "text/markdown": [
       "Ekstazi\n",
       ":   0.385557401255076FAST\n",
       ":   0.446552427580579Fastazi\n",
       ":   0.329457364341085Random\n",
       ":   0.492039092475139\n",
       "\n"
      ],
      "text/plain": [
       "  Ekstazi      FAST   Fastazi    Random \n",
       "0.3855574 0.4465524 0.3294574 0.4920391 "
      ]
     },
     "metadata": {}
    },
    {
     "output_type": "display_data",
     "data": {
      "text/plain": [
       "\n",
       "\tKruskal-Wallis rank sum test\n",
       "\n",
       "data:  pTTFF by Suite\n",
       "Kruskal-Wallis chi-squared = 162.64, df = 3, p-value < 2.2e-16\n"
      ]
     },
     "metadata": {}
    },
    {
     "output_type": "stream",
     "name": "stdout",
     "text": [
      "\n",
      "==================================================\n"
     ]
    },
    {
     "output_type": "stream",
     "name": "stderr",
     "text": [
      "Warning message in kruskalmc.default(raw_results$pTTFF, raw_results$Suite):\n",
      "\"20 lines including NA have been omitted\"\n"
     ]
    },
    {
     "output_type": "display_data",
     "data": {
      "text/html": [
       "<dl>\n",
       "\t<dt>$statistic</dt>\n",
       "\t\t<dd>'Multiple comparison test after Kruskal-Wallis'</dd>\n",
       "\t<dt>$signif.level</dt>\n",
       "\t\t<dd>0.05</dd>\n",
       "\t<dt>$dif.com</dt>\n",
       "\t\t<dd><table class=\"dataframe\">\n",
       "<caption>A data.frame: 6 × 3</caption>\n",
       "<thead>\n",
       "\t<tr><th></th><th scope=col>obs.dif</th><th scope=col>critical.dif</th><th scope=col>difference</th></tr>\n",
       "\t<tr><th></th><th scope=col>&lt;dbl&gt;</th><th scope=col>&lt;dbl&gt;</th><th scope=col>&lt;lgl&gt;</th></tr>\n",
       "</thead>\n",
       "<tbody>\n",
       "\t<tr><th scope=row>Ekstazi-FAST</th><td>278.35354</td><td>99.7666</td><td> TRUE</td></tr>\n",
       "\t<tr><th scope=row>Ekstazi-Fastazi</th><td> 30.31437</td><td>99.7666</td><td>FALSE</td></tr>\n",
       "\t<tr><th scope=row>Ekstazi-Random</th><td>407.62687</td><td>99.7666</td><td> TRUE</td></tr>\n",
       "\t<tr><th scope=row>FAST-Fastazi</th><td>248.03918</td><td>99.7666</td><td> TRUE</td></tr>\n",
       "\t<tr><th scope=row>FAST-Random</th><td>129.27332</td><td>99.7666</td><td> TRUE</td></tr>\n",
       "\t<tr><th scope=row>Fastazi-Random</th><td>377.31250</td><td>99.7666</td><td> TRUE</td></tr>\n",
       "</tbody>\n",
       "</table>\n",
       "</dd>\n",
       "</dl>\n"
      ],
      "text/latex": [
       "\\begin{description}\n",
       "\\item[\\$statistic] 'Multiple comparison test after Kruskal-Wallis'\n",
       "\\item[\\$signif.level] 0.05\n",
       "\\item[\\$dif.com] A data.frame: 6 × 3\n",
       "\\begin{tabular}{r|lll}\n",
       "  & obs.dif & critical.dif & difference\\\\\n",
       "  & <dbl> & <dbl> & <lgl>\\\\\n",
       "\\hline\n",
       "\tEkstazi-FAST & 278.35354 & 99.7666 &  TRUE\\\\\n",
       "\tEkstazi-Fastazi &  30.31437 & 99.7666 & FALSE\\\\\n",
       "\tEkstazi-Random & 407.62687 & 99.7666 &  TRUE\\\\\n",
       "\tFAST-Fastazi & 248.03918 & 99.7666 &  TRUE\\\\\n",
       "\tFAST-Random & 129.27332 & 99.7666 &  TRUE\\\\\n",
       "\tFastazi-Random & 377.31250 & 99.7666 &  TRUE\\\\\n",
       "\\end{tabular}\n",
       "\n",
       "\\end{description}\n"
      ],
      "text/markdown": [
       "$statistic\n",
       ":   'Multiple comparison test after Kruskal-Wallis'\n",
       "$signif.level\n",
       ":   0.05\n",
       "$dif.com\n",
       ":   \n",
       "A data.frame: 6 × 3\n",
       "\n",
       "| <!--/--> | obs.dif &lt;dbl&gt; | critical.dif &lt;dbl&gt; | difference &lt;lgl&gt; |\n",
       "|---|---|---|---|\n",
       "| Ekstazi-FAST | 278.35354 | 99.7666 |  TRUE |\n",
       "| Ekstazi-Fastazi |  30.31437 | 99.7666 | FALSE |\n",
       "| Ekstazi-Random | 407.62687 | 99.7666 |  TRUE |\n",
       "| FAST-Fastazi | 248.03918 | 99.7666 |  TRUE |\n",
       "| FAST-Random | 129.27332 | 99.7666 |  TRUE |\n",
       "| Fastazi-Random | 377.31250 | 99.7666 |  TRUE |\n",
       "\n",
       "\n",
       "\n",
       "\n"
      ],
      "text/plain": [
       "Multiple comparison test after Kruskal-Wallis \n",
       "p.value: 0.05 \n",
       "Comparisons\n",
       "                  obs.dif critical.dif difference\n",
       "Ekstazi-FAST    278.35354      99.7666       TRUE\n",
       "Ekstazi-Fastazi  30.31437      99.7666      FALSE\n",
       "Ekstazi-Random  407.62687      99.7666       TRUE\n",
       "FAST-Fastazi    248.03918      99.7666       TRUE\n",
       "FAST-Random     129.27332      99.7666       TRUE\n",
       "Fastazi-Random  377.31250      99.7666       TRUE"
      ]
     },
     "metadata": {}
    },
    {
     "output_type": "stream",
     "name": "stdout",
     "text": [
      "\n",
      "==================================================\n",
      "\n",
      "----------\n",
      "# Pairwise comparisons using Wilcoxon<U+2019>s test\n",
      "----------\n"
     ]
    },
    {
     "output_type": "display_data",
     "data": {
      "text/html": [
       "<table class=\"dataframe\">\n",
       "<caption>A rstatix_test: 6 × 9</caption>\n",
       "<thead>\n",
       "\t<tr><th></th><th scope=col>.y.</th><th scope=col>group1</th><th scope=col>group2</th><th scope=col>n1</th><th scope=col>n2</th><th scope=col>statistic</th><th scope=col>p</th><th scope=col>p.adj</th><th scope=col>p.adj.signif</th></tr>\n",
       "\t<tr><th></th><th scope=col>&lt;chr&gt;</th><th scope=col>&lt;chr&gt;</th><th scope=col>&lt;chr&gt;</th><th scope=col>&lt;int&gt;</th><th scope=col>&lt;int&gt;</th><th scope=col>&lt;dbl&gt;</th><th scope=col>&lt;dbl&gt;</th><th scope=col>&lt;dbl&gt;</th><th scope=col>&lt;chr&gt;</th></tr>\n",
       "</thead>\n",
       "<tbody>\n",
       "\t<tr><th scope=row>1</th><td>pTTFF</td><td>Ekstazi</td><td>FAST   </td><td>541</td><td>541</td><td>115341.0</td><td>2.34e-08</td><td>1.40e-07</td><td>****</td></tr>\n",
       "\t<tr><th scope=row>2</th><td>pTTFF</td><td>Ekstazi</td><td>Fastazi</td><td>541</td><td>541</td><td>151023.0</td><td>1.46e-01</td><td>8.76e-01</td><td>ns  </td></tr>\n",
       "\t<tr><th scope=row>3</th><td>pTTFF</td><td>Ekstazi</td><td>Random </td><td>541</td><td>541</td><td> 68596.5</td><td>1.31e-49</td><td>7.86e-49</td><td>****</td></tr>\n",
       "\t<tr><th scope=row>4</th><td>pTTFF</td><td>FAST   </td><td>Fastazi</td><td>541</td><td>541</td><td>174362.0</td><td>1.36e-09</td><td>8.16e-09</td><td>****</td></tr>\n",
       "\t<tr><th scope=row>5</th><td>pTTFF</td><td>FAST   </td><td>Random </td><td>541</td><td>541</td><td>137841.0</td><td>2.52e-01</td><td>1.00e+00</td><td>ns  </td></tr>\n",
       "\t<tr><th scope=row>6</th><td>pTTFF</td><td>Fastazi</td><td>Random </td><td>541</td><td>541</td><td>102002.0</td><td>2.09e-16</td><td>1.25e-15</td><td>****</td></tr>\n",
       "</tbody>\n",
       "</table>\n"
      ],
      "text/latex": [
       "A rstatix\\_test: 6 × 9\n",
       "\\begin{tabular}{r|lllllllll}\n",
       "  & .y. & group1 & group2 & n1 & n2 & statistic & p & p.adj & p.adj.signif\\\\\n",
       "  & <chr> & <chr> & <chr> & <int> & <int> & <dbl> & <dbl> & <dbl> & <chr>\\\\\n",
       "\\hline\n",
       "\t1 & pTTFF & Ekstazi & FAST    & 541 & 541 & 115341.0 & 2.34e-08 & 1.40e-07 & ****\\\\\n",
       "\t2 & pTTFF & Ekstazi & Fastazi & 541 & 541 & 151023.0 & 1.46e-01 & 8.76e-01 & ns  \\\\\n",
       "\t3 & pTTFF & Ekstazi & Random  & 541 & 541 &  68596.5 & 1.31e-49 & 7.86e-49 & ****\\\\\n",
       "\t4 & pTTFF & FAST    & Fastazi & 541 & 541 & 174362.0 & 1.36e-09 & 8.16e-09 & ****\\\\\n",
       "\t5 & pTTFF & FAST    & Random  & 541 & 541 & 137841.0 & 2.52e-01 & 1.00e+00 & ns  \\\\\n",
       "\t6 & pTTFF & Fastazi & Random  & 541 & 541 & 102002.0 & 2.09e-16 & 1.25e-15 & ****\\\\\n",
       "\\end{tabular}\n"
      ],
      "text/markdown": [
       "\n",
       "A rstatix_test: 6 × 9\n",
       "\n",
       "| <!--/--> | .y. &lt;chr&gt; | group1 &lt;chr&gt; | group2 &lt;chr&gt; | n1 &lt;int&gt; | n2 &lt;int&gt; | statistic &lt;dbl&gt; | p &lt;dbl&gt; | p.adj &lt;dbl&gt; | p.adj.signif &lt;chr&gt; |\n",
       "|---|---|---|---|---|---|---|---|---|---|\n",
       "| 1 | pTTFF | Ekstazi | FAST    | 541 | 541 | 115341.0 | 2.34e-08 | 1.40e-07 | **** |\n",
       "| 2 | pTTFF | Ekstazi | Fastazi | 541 | 541 | 151023.0 | 1.46e-01 | 8.76e-01 | ns   |\n",
       "| 3 | pTTFF | Ekstazi | Random  | 541 | 541 |  68596.5 | 1.31e-49 | 7.86e-49 | **** |\n",
       "| 4 | pTTFF | FAST    | Fastazi | 541 | 541 | 174362.0 | 1.36e-09 | 8.16e-09 | **** |\n",
       "| 5 | pTTFF | FAST    | Random  | 541 | 541 | 137841.0 | 2.52e-01 | 1.00e+00 | ns   |\n",
       "| 6 | pTTFF | Fastazi | Random  | 541 | 541 | 102002.0 | 2.09e-16 | 1.25e-15 | **** |\n",
       "\n"
      ],
      "text/plain": [
       "  .y.   group1  group2  n1  n2  statistic p        p.adj    p.adj.signif\n",
       "1 pTTFF Ekstazi FAST    541 541 115341.0  2.34e-08 1.40e-07 ****        \n",
       "2 pTTFF Ekstazi Fastazi 541 541 151023.0  1.46e-01 8.76e-01 ns          \n",
       "3 pTTFF Ekstazi Random  541 541  68596.5  1.31e-49 7.86e-49 ****        \n",
       "4 pTTFF FAST    Fastazi 541 541 174362.0  1.36e-09 8.16e-09 ****        \n",
       "5 pTTFF FAST    Random  541 541 137841.0  2.52e-01 1.00e+00 ns          \n",
       "6 pTTFF Fastazi Random  541 541 102002.0  2.09e-16 1.25e-15 ****        "
      ]
     },
     "metadata": {}
    },
    {
     "output_type": "stream",
     "name": "stdout",
     "text": [
      "\n",
      "==================================================\n"
     ]
    },
    {
     "output_type": "display_data",
     "data": {
      "text/plain": [
       "$statistics\n",
       "     Chisq Df p.chisq  t.value     MSD\n",
       "  162.6432  3       0 1.961073 71.3389\n",
       "\n",
       "$parameters\n",
       "            test p.ajusted            name.t ntr alpha\n",
       "  Kruskal-Wallis      none raw_results$Suite   4  0.05\n",
       "\n",
       "$means\n",
       "        raw_results.pTTFF      rank        std   r        Min       Max\n",
       "Ekstazi         0.3613923  893.4263 0.13761084 536 0.01819172 0.6082222\n",
       "FAST            0.4826452 1171.7799 0.30403945 536 0.00405954 1.0000000\n",
       "Fastazi         0.3712187  923.7407 0.27535003 536 0.00270636 1.0000000\n",
       "Random          0.4752075 1301.0532 0.09192415 536 0.05412541 0.6525840\n",
       "              Q25       Q50       Q75\n",
       "Ekstazi 0.2840148 0.3855574 0.4677709\n",
       "FAST    0.2282127 0.4465524 0.7392244\n",
       "Fastazi 0.1168594 0.3294574 0.5929617\n",
       "Random  0.4393180 0.4920391 0.5346572\n",
       "\n",
       "$comparison\n",
       "NULL\n",
       "\n",
       "$groups\n",
       "        raw_results$pTTFF groups\n",
       "Random          1301.0532      a\n",
       "FAST            1171.7799      b\n",
       "Fastazi          923.7407      c\n",
       "Ekstazi          893.4263      c\n",
       "\n",
       "attr(,\"class\")\n",
       "[1] \"group\""
      ]
     },
     "metadata": {}
    }
   ],
   "metadata": {}
  },
  {
   "cell_type": "code",
   "execution_count": 36,
   "source": [
    "cat(\"\\n################################################################################\\n\")\n",
    "cat(  \"#                                      NAPFD                                   #\")\n",
    "cat(\"\\n################################################################################\\n\")\n",
    "#Kruskal-Wallis rank sum test\n",
    "with(raw_results, tapply(APFDf, Suite, median, na.rm=TRUE))\n",
    "kruskal.test(APFDf ~ Suite, data=raw_results)\n",
    "cat(\"\\n==================================================\\n\")\n",
    "\n",
    "#Kruskal-Wallis rank sum test (MULTIPLE COMPARISON)\n",
    "kruskalmc(raw_results$APFDf, raw_results$Suite)\n",
    "cat(\"\\n==================================================\\n\")\n",
    "\n",
    "cat(\"\\n----------\\n\")\n",
    "cat(  \"# Pairwise comparisons using Wilcoxon’s test\")\n",
    "cat(\"\\n----------\\n\")\n",
    "wilcox_test(raw_results, APFDf ~ Suite, p.adjust.method = \"bonferroni\")\n",
    "cat(\"\\n==================================================\\n\")\n",
    "\n",
    "out <- kruskal(raw_results$APFDf, raw_results$Suite)\n",
    "out"
   ],
   "outputs": [
    {
     "output_type": "stream",
     "name": "stdout",
     "text": [
      "\n",
      "################################################################################\n",
      "#                                      NAPFD                                   #\n",
      "################################################################################\n"
     ]
    },
    {
     "output_type": "display_data",
     "data": {
      "text/html": [
       "<style>\n",
       ".dl-inline {width: auto; margin:0; padding: 0}\n",
       ".dl-inline>dt, .dl-inline>dd {float: none; width: auto; display: inline-block}\n",
       ".dl-inline>dt::after {content: \":\\0020\"; padding-right: .5ex}\n",
       ".dl-inline>dt:not(:first-of-type) {padding-left: .5ex}\n",
       "</style><dl class=dl-inline><dt>Ekstazi</dt><dd>0.61937984496124</dd><dt>FAST</dt><dd>0.552631578947368</dd><dt>Fastazi</dt><dd>0.672480620155039</dd><dt>Random</dt><dd>0.512921348314607</dd></dl>\n"
      ],
      "text/latex": [
       "\\begin{description*}\n",
       "\\item[Ekstazi] 0.61937984496124\n",
       "\\item[FAST] 0.552631578947368\n",
       "\\item[Fastazi] 0.672480620155039\n",
       "\\item[Random] 0.512921348314607\n",
       "\\end{description*}\n"
      ],
      "text/markdown": [
       "Ekstazi\n",
       ":   0.61937984496124FAST\n",
       ":   0.552631578947368Fastazi\n",
       ":   0.672480620155039Random\n",
       ":   0.512921348314607\n",
       "\n"
      ],
      "text/plain": [
       "  Ekstazi      FAST   Fastazi    Random \n",
       "0.6193798 0.5526316 0.6724806 0.5129213 "
      ]
     },
     "metadata": {}
    },
    {
     "output_type": "display_data",
     "data": {
      "text/plain": [
       "\n",
       "\tKruskal-Wallis rank sum test\n",
       "\n",
       "data:  APFDf by Suite\n",
       "Kruskal-Wallis chi-squared = 157.05, df = 3, p-value < 2.2e-16\n"
      ]
     },
     "metadata": {}
    },
    {
     "output_type": "stream",
     "name": "stdout",
     "text": [
      "\n",
      "==================================================\n"
     ]
    },
    {
     "output_type": "display_data",
     "data": {
      "text/html": [
       "<dl>\n",
       "\t<dt>$statistic</dt>\n",
       "\t\t<dd>'Multiple comparison test after Kruskal-Wallis'</dd>\n",
       "\t<dt>$signif.level</dt>\n",
       "\t\t<dd>0.05</dd>\n",
       "\t<dt>$dif.com</dt>\n",
       "\t\t<dd><table class=\"dataframe\">\n",
       "<caption>A data.frame: 6 × 3</caption>\n",
       "<thead>\n",
       "\t<tr><th></th><th scope=col>obs.dif</th><th scope=col>critical.dif</th><th scope=col>difference</th></tr>\n",
       "\t<tr><th></th><th scope=col>&lt;dbl&gt;</th><th scope=col>&lt;dbl&gt;</th><th scope=col>&lt;lgl&gt;</th></tr>\n",
       "</thead>\n",
       "<tbody>\n",
       "\t<tr><th scope=row>Ekstazi-FAST</th><td>276.55083</td><td>100.2306</td><td> TRUE</td></tr>\n",
       "\t<tr><th scope=row>Ekstazi-Fastazi</th><td> 31.60721</td><td>100.2306</td><td>FALSE</td></tr>\n",
       "\t<tr><th scope=row>Ekstazi-Random</th><td>402.74399</td><td>100.2306</td><td> TRUE</td></tr>\n",
       "\t<tr><th scope=row>FAST-Fastazi</th><td>244.94362</td><td>100.2306</td><td> TRUE</td></tr>\n",
       "\t<tr><th scope=row>FAST-Random</th><td>126.19316</td><td>100.2306</td><td> TRUE</td></tr>\n",
       "\t<tr><th scope=row>Fastazi-Random</th><td>371.13678</td><td>100.2306</td><td> TRUE</td></tr>\n",
       "</tbody>\n",
       "</table>\n",
       "</dd>\n",
       "</dl>\n"
      ],
      "text/latex": [
       "\\begin{description}\n",
       "\\item[\\$statistic] 'Multiple comparison test after Kruskal-Wallis'\n",
       "\\item[\\$signif.level] 0.05\n",
       "\\item[\\$dif.com] A data.frame: 6 × 3\n",
       "\\begin{tabular}{r|lll}\n",
       "  & obs.dif & critical.dif & difference\\\\\n",
       "  & <dbl> & <dbl> & <lgl>\\\\\n",
       "\\hline\n",
       "\tEkstazi-FAST & 276.55083 & 100.2306 &  TRUE\\\\\n",
       "\tEkstazi-Fastazi &  31.60721 & 100.2306 & FALSE\\\\\n",
       "\tEkstazi-Random & 402.74399 & 100.2306 &  TRUE\\\\\n",
       "\tFAST-Fastazi & 244.94362 & 100.2306 &  TRUE\\\\\n",
       "\tFAST-Random & 126.19316 & 100.2306 &  TRUE\\\\\n",
       "\tFastazi-Random & 371.13678 & 100.2306 &  TRUE\\\\\n",
       "\\end{tabular}\n",
       "\n",
       "\\end{description}\n"
      ],
      "text/markdown": [
       "$statistic\n",
       ":   'Multiple comparison test after Kruskal-Wallis'\n",
       "$signif.level\n",
       ":   0.05\n",
       "$dif.com\n",
       ":   \n",
       "A data.frame: 6 × 3\n",
       "\n",
       "| <!--/--> | obs.dif &lt;dbl&gt; | critical.dif &lt;dbl&gt; | difference &lt;lgl&gt; |\n",
       "|---|---|---|---|\n",
       "| Ekstazi-FAST | 276.55083 | 100.2306 |  TRUE |\n",
       "| Ekstazi-Fastazi |  31.60721 | 100.2306 | FALSE |\n",
       "| Ekstazi-Random | 402.74399 | 100.2306 |  TRUE |\n",
       "| FAST-Fastazi | 244.94362 | 100.2306 |  TRUE |\n",
       "| FAST-Random | 126.19316 | 100.2306 |  TRUE |\n",
       "| Fastazi-Random | 371.13678 | 100.2306 |  TRUE |\n",
       "\n",
       "\n",
       "\n",
       "\n"
      ],
      "text/plain": [
       "Multiple comparison test after Kruskal-Wallis \n",
       "p.value: 0.05 \n",
       "Comparisons\n",
       "                  obs.dif critical.dif difference\n",
       "Ekstazi-FAST    276.55083     100.2306       TRUE\n",
       "Ekstazi-Fastazi  31.60721     100.2306      FALSE\n",
       "Ekstazi-Random  402.74399     100.2306       TRUE\n",
       "FAST-Fastazi    244.94362     100.2306       TRUE\n",
       "FAST-Random     126.19316     100.2306       TRUE\n",
       "Fastazi-Random  371.13678     100.2306       TRUE"
      ]
     },
     "metadata": {}
    },
    {
     "output_type": "stream",
     "name": "stdout",
     "text": [
      "\n",
      "==================================================\n",
      "\n",
      "----------\n",
      "# Pairwise comparisons using Wilcoxon<U+2019>s test\n",
      "----------\n"
     ]
    },
    {
     "output_type": "display_data",
     "data": {
      "text/html": [
       "<table class=\"dataframe\">\n",
       "<caption>A rstatix_test: 6 × 9</caption>\n",
       "<thead>\n",
       "\t<tr><th></th><th scope=col>.y.</th><th scope=col>group1</th><th scope=col>group2</th><th scope=col>n1</th><th scope=col>n2</th><th scope=col>statistic</th><th scope=col>p</th><th scope=col>p.adj</th><th scope=col>p.adj.signif</th></tr>\n",
       "\t<tr><th></th><th scope=col>&lt;chr&gt;</th><th scope=col>&lt;chr&gt;</th><th scope=col>&lt;chr&gt;</th><th scope=col>&lt;int&gt;</th><th scope=col>&lt;int&gt;</th><th scope=col>&lt;dbl&gt;</th><th scope=col>&lt;dbl&gt;</th><th scope=col>&lt;dbl&gt;</th><th scope=col>&lt;chr&gt;</th></tr>\n",
       "</thead>\n",
       "<tbody>\n",
       "\t<tr><th scope=row>1</th><td>APFDf</td><td>Ekstazi</td><td>FAST   </td><td>541</td><td>541</td><td>174723.5</td><td>3.34e-08</td><td>2.00e-07</td><td>****</td></tr>\n",
       "\t<tr><th scope=row>2</th><td>APFDf</td><td>Ekstazi</td><td>Fastazi</td><td>541</td><td>541</td><td>139087.5</td><td>1.58e-01</td><td>9.48e-01</td><td>ns  </td></tr>\n",
       "\t<tr><th scope=row>3</th><td>APFDf</td><td>Ekstazi</td><td>Random </td><td>541</td><td>541</td><td>221360.0</td><td>2.95e-48</td><td>1.77e-47</td><td>****</td></tr>\n",
       "\t<tr><th scope=row>4</th><td>APFDf</td><td>FAST   </td><td>Fastazi</td><td>541</td><td>541</td><td>115748.0</td><td>2.64e-09</td><td>1.58e-08</td><td>****</td></tr>\n",
       "\t<tr><th scope=row>5</th><td>APFDf</td><td>FAST   </td><td>Random </td><td>541</td><td>541</td><td>151851.5</td><td>2.84e-01</td><td>1.00e+00</td><td>ns  </td></tr>\n",
       "\t<tr><th scope=row>6</th><td>APFDf</td><td>Fastazi</td><td>Random </td><td>541</td><td>541</td><td>187545.0</td><td>1.08e-15</td><td>6.48e-15</td><td>****</td></tr>\n",
       "</tbody>\n",
       "</table>\n"
      ],
      "text/latex": [
       "A rstatix\\_test: 6 × 9\n",
       "\\begin{tabular}{r|lllllllll}\n",
       "  & .y. & group1 & group2 & n1 & n2 & statistic & p & p.adj & p.adj.signif\\\\\n",
       "  & <chr> & <chr> & <chr> & <int> & <int> & <dbl> & <dbl> & <dbl> & <chr>\\\\\n",
       "\\hline\n",
       "\t1 & APFDf & Ekstazi & FAST    & 541 & 541 & 174723.5 & 3.34e-08 & 2.00e-07 & ****\\\\\n",
       "\t2 & APFDf & Ekstazi & Fastazi & 541 & 541 & 139087.5 & 1.58e-01 & 9.48e-01 & ns  \\\\\n",
       "\t3 & APFDf & Ekstazi & Random  & 541 & 541 & 221360.0 & 2.95e-48 & 1.77e-47 & ****\\\\\n",
       "\t4 & APFDf & FAST    & Fastazi & 541 & 541 & 115748.0 & 2.64e-09 & 1.58e-08 & ****\\\\\n",
       "\t5 & APFDf & FAST    & Random  & 541 & 541 & 151851.5 & 2.84e-01 & 1.00e+00 & ns  \\\\\n",
       "\t6 & APFDf & Fastazi & Random  & 541 & 541 & 187545.0 & 1.08e-15 & 6.48e-15 & ****\\\\\n",
       "\\end{tabular}\n"
      ],
      "text/markdown": [
       "\n",
       "A rstatix_test: 6 × 9\n",
       "\n",
       "| <!--/--> | .y. &lt;chr&gt; | group1 &lt;chr&gt; | group2 &lt;chr&gt; | n1 &lt;int&gt; | n2 &lt;int&gt; | statistic &lt;dbl&gt; | p &lt;dbl&gt; | p.adj &lt;dbl&gt; | p.adj.signif &lt;chr&gt; |\n",
       "|---|---|---|---|---|---|---|---|---|---|\n",
       "| 1 | APFDf | Ekstazi | FAST    | 541 | 541 | 174723.5 | 3.34e-08 | 2.00e-07 | **** |\n",
       "| 2 | APFDf | Ekstazi | Fastazi | 541 | 541 | 139087.5 | 1.58e-01 | 9.48e-01 | ns   |\n",
       "| 3 | APFDf | Ekstazi | Random  | 541 | 541 | 221360.0 | 2.95e-48 | 1.77e-47 | **** |\n",
       "| 4 | APFDf | FAST    | Fastazi | 541 | 541 | 115748.0 | 2.64e-09 | 1.58e-08 | **** |\n",
       "| 5 | APFDf | FAST    | Random  | 541 | 541 | 151851.5 | 2.84e-01 | 1.00e+00 | ns   |\n",
       "| 6 | APFDf | Fastazi | Random  | 541 | 541 | 187545.0 | 1.08e-15 | 6.48e-15 | **** |\n",
       "\n"
      ],
      "text/plain": [
       "  .y.   group1  group2  n1  n2  statistic p        p.adj    p.adj.signif\n",
       "1 APFDf Ekstazi FAST    541 541 174723.5  3.34e-08 2.00e-07 ****        \n",
       "2 APFDf Ekstazi Fastazi 541 541 139087.5  1.58e-01 9.48e-01 ns          \n",
       "3 APFDf Ekstazi Random  541 541 221360.0  2.95e-48 1.77e-47 ****        \n",
       "4 APFDf FAST    Fastazi 541 541 115748.0  2.64e-09 1.58e-08 ****        \n",
       "5 APFDf FAST    Random  541 541 151851.5  2.84e-01 1.00e+00 ns          \n",
       "6 APFDf Fastazi Random  541 541 187545.0  1.08e-15 6.48e-15 ****        "
      ]
     },
     "metadata": {}
    },
    {
     "output_type": "stream",
     "name": "stdout",
     "text": [
      "\n",
      "==================================================\n"
     ]
    },
    {
     "output_type": "display_data",
     "data": {
      "text/plain": [
       "$statistics\n",
       "     Chisq Df p.chisq  t.value      MSD\n",
       "  157.0488  3       0 1.961063 71.79725\n",
       "\n",
       "$parameters\n",
       "            test p.ajusted            name.t ntr alpha\n",
       "  Kruskal-Wallis      none raw_results$Suite   4  0.05\n",
       "\n",
       "$means\n",
       "        raw_results.APFDf      rank       std   r Min       Max       Q25\n",
       "Ekstazi         0.6384585 1260.2255 0.1500247 541   0 0.9834423 0.5359184\n",
       "FAST            0.5183262  983.6747 0.3070212 541   0 0.9966171 0.2577519\n",
       "Fastazi         0.6287228 1228.6183 0.2811242 541   0 0.9982877 0.4050388\n",
       "Random          0.5256951  857.4815 0.1044111 541   0 0.9475248 0.4697856\n",
       "              Q50       Q75\n",
       "Ekstazi 0.6193798 0.7245614\n",
       "FAST    0.5526316 0.7758621\n",
       "Fastazi 0.6724806 0.8868613\n",
       "Random  0.5129213 0.5663934\n",
       "\n",
       "$comparison\n",
       "NULL\n",
       "\n",
       "$groups\n",
       "        raw_results$APFDf groups\n",
       "Ekstazi         1260.2255      a\n",
       "Fastazi         1228.6183      a\n",
       "FAST             983.6747      b\n",
       "Random           857.4815      c\n",
       "\n",
       "attr(,\"class\")\n",
       "[1] \"group\""
      ]
     },
     "metadata": {}
    }
   ],
   "metadata": {}
  }
 ],
 "metadata": {
  "kernelspec": {
   "display_name": "R",
   "language": "R",
   "name": "ir"
  },
  "language_info": {
   "codemirror_mode": "r",
   "file_extension": ".r",
   "mimetype": "text/x-r-source",
   "name": "R",
   "pygments_lexer": "r",
   "version": "4.1.1"
  }
 },
 "nbformat": 4,
 "nbformat_minor": 5
}